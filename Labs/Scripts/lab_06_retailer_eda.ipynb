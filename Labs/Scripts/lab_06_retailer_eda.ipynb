{
  "cells": [
    {
      "cell_type": "markdown",
      "metadata": {
        "id": "view-in-github",
        "colab_type": "text"
      },
      "source": [
        "<a href=\"https://colab.research.google.com/github/makenna-allen/IS-4487/blob/main/Labs/Scripts/lab_06_retailer_eda.ipynb\" target=\"_parent\"><img src=\"https://colab.research.google.com/assets/colab-badge.svg\" alt=\"Open In Colab\"/></a>"
      ]
    },
    {
      "cell_type": "markdown",
      "metadata": {
        "id": "XfzfkybsxIQL"
      },
      "source": [
        "# IS 4487 Lab 6\n",
        "\n",
        "## Outline\n",
        "\n",
        "Repeat exercises from Lab 5, but with the *SuperStore Retail Orders* dataset.  Your target variable is total sales revenue.  \n",
        "\n",
        "\n",
        "<a href=\"https://colab.research.google.com/github/Stan-Pugsley/is_4487_base/blob/main/Labs/Scripts/lab_06_retailer_eda.ipynb\" target=\"_parent\"><img src=\"https://colab.research.google.com/assets/colab-badge.svg\" alt=\"Open In Colab\"/></a>"
      ]
    },
    {
      "cell_type": "markdown",
      "metadata": {
        "id": "gjwVc-QDxIQO"
      },
      "source": [
        "## Superstore Data Dictionary\n",
        "\n",
        " ORDER VARIABLES:\n",
        " - Order ID\n",
        " - Order Date\n",
        " - Order Year Month - Year and month of the order\n",
        " - Order Type - Was the order completed at a store or online? (Retail, Online)\n",
        " - Quantity - Quantity ordered for the product\n",
        "\n",
        " CUSTOMER VARIABLES:\n",
        " - Customer Name\n",
        " - City\n",
        " - State Province\n",
        " - Email\n",
        "\n",
        "\n",
        "PRODUCT VARIABLES:\n",
        " - Product Name\n",
        " - Product Line - Category of the product (i.e. Bikes Phones)\n",
        " - Product Price - Price in US Dollars\n",
        " - Product Status - Current status of the product (Active, Inactive)"
      ]
    },
    {
      "cell_type": "markdown",
      "metadata": {
        "id": "t1zvInJwxIQO"
      },
      "source": [
        "## Load Libraries\n",
        "\n",
        "➡️ Assignment Tasks\n",
        "- Load any necessary libraries"
      ]
    },
    {
      "cell_type": "code",
      "execution_count": 41,
      "metadata": {
        "vscode": {
          "languageId": "plaintext"
        },
        "id": "fd4tkHH6xIQO"
      },
      "outputs": [],
      "source": [
        "import pandas as pd\n",
        "import matplotlib as mpl\n",
        "import sklearn as sl\n",
        "import seaborn as sns\n",
        "import matplotlib.pyplot as plt"
      ]
    },
    {
      "cell_type": "markdown",
      "metadata": {
        "id": "LwjcUhYxxIQP"
      },
      "source": [
        "## Import Data into Dataframe\n",
        "\n",
        "➡️ Assignment Tasks\n",
        "- Import data from the SuperStore retail dataset into a dataframe (in GitHub go to Labs > DataSets)\n",
        "- Describe or profile the dataframe.  \n",
        "- If your record count doesn't match the source file, then resolve the issue"
      ]
    },
    {
      "cell_type": "code",
      "execution_count": 20,
      "metadata": {
        "vscode": {
          "languageId": "plaintext"
        },
        "id": "imuuVRyUxIQP",
        "outputId": "42a5a8e8-0545-4d40-ff75-38a9d491c727",
        "colab": {
          "base_uri": "https://localhost:8080/"
        }
      },
      "outputs": [
        {
          "output_type": "stream",
          "name": "stdout",
          "text": [
            "       order_id  order_date order_year_month     customer_name  \\\n",
            "0         51188  2023-07-01          2023-07     Audrey Blanco   \n",
            "1         51187  2023-07-01          2023-07       Isaac Allen   \n",
            "2         51199  2023-07-02          2023-07        Ian Morgan   \n",
            "3         51241  2023-07-04          2023-07        Alexa Bell   \n",
            "4         51297  2023-07-08          2023-07        Casey Diaz   \n",
            "...         ...         ...              ...               ...   \n",
            "56038     74084  2024-06-29          2024-06        Ian Rogers   \n",
            "56039     74062  2024-06-29          2024-06   Marcus Anderson   \n",
            "56040     74065  2024-06-29          2024-06  Nathaniel Howard   \n",
            "56041     74038  2024-06-29          2024-06        Robin Sanz   \n",
            "56042     74110  2024-06-30          2024-06   Mallory Jimenez   \n",
            "\n",
            "                    city state_province                       email  \\\n",
            "0      North Cherylmouth  New Hampshire     audrey_blanco@email.com   \n",
            "1             Traceyland  West Virginia       isaac_allen@email.com   \n",
            "2              Dylanberg   South Dakota        ian_morgan@email.com   \n",
            "3         Lake Tracytown      Wisconsin        alexa_bell@email.com   \n",
            "4            Byrdchester    Mississippi        casey_diaz@email.com   \n",
            "...                  ...            ...                         ...   \n",
            "56038          Port Mark        Alabama        ian_rogers@email.com   \n",
            "56039     West Aprilfurt       Nebraska   marcus_anderson@email.com   \n",
            "56040      New Lindaview       Illinois  nathaniel_howard@email.com   \n",
            "56041    West Frankhaven       Arkansas        robin_sanz@email.com   \n",
            "56042        Dillonhaven       Maryland   mallory_jimenez@email.com   \n",
            "\n",
            "      order_type  quantity                                       product_name  \\\n",
            "0         Retail       3.0  Apple iPhone XR (Yellow, 256 GB) (Includes Ear...   \n",
            "1         Online       4.0  Apple iPhone XR (Yellow, 256 GB) (Includes Ear...   \n",
            "2         Online       5.0  Apple iPhone XR (Yellow, 256 GB) (Includes Ear...   \n",
            "3         Online       1.0  Apple iPhone XR (Yellow, 256 GB) (Includes Ear...   \n",
            "4         Online       1.0  Apple iPhone XR (Yellow, 256 GB) (Includes Ear...   \n",
            "...          ...       ...                                                ...   \n",
            "56038     Retail       1.0  Samsung Galaxy S20 FE 5G (Cloud Navy, 8GB RAM,...   \n",
            "56039     Retail       1.0  Samsung Galaxy S20 FE 5G (Cloud Navy, 8GB RAM,...   \n",
            "56040     Online       1.0  Samsung Galaxy S20 FE 5G (Cloud Navy, 8GB RAM,...   \n",
            "56041     Retail       1.0  Samsung Galaxy S20 FE 5G (Cloud Navy, 8GB RAM,...   \n",
            "56042     Retail       1.0  Samsung Galaxy S20 FE 5G (Cloud Navy, 8GB RAM,...   \n",
            "\n",
            "      product_line  product_price product_status  \n",
            "0           Mobile         649.99         Active  \n",
            "1           Mobile         649.99         Active  \n",
            "2           Mobile         649.99         Active  \n",
            "3           Mobile         649.99         Active  \n",
            "4           Mobile         649.99         Active  \n",
            "...            ...            ...            ...  \n",
            "56038  Electronics         914.62         Active  \n",
            "56039  Electronics         914.62         Active  \n",
            "56040  Electronics         914.62         Active  \n",
            "56041  Electronics         914.62         Active  \n",
            "56042  Electronics         914.62         Active  \n",
            "\n",
            "[56043 rows x 13 columns]\n"
          ]
        }
      ],
      "source": [
        "df = pd.read_csv('https://github.com/Stan-Pugsley/is_4487_base/blob/main/Labs/DataSets/superstore_retail_orders.csv?raw=true')\n",
        "print (df)"
      ]
    },
    {
      "cell_type": "markdown",
      "metadata": {
        "id": "RHYG40CmxIQP"
      },
      "source": [
        "## Prepare Data\n",
        "\n",
        "➡️ Assignment Tasks\n",
        "- Convert any numbers into the correct datatype if they are not already numeric\n",
        "- Convert any character variables in to categories if they are appropriate for that datatype\n",
        "- Check for outliers.   Remove any outliers that appear to be mistakes\n",
        "- Remove rows with empty (NULL) values\n",
        "- Create a total_amount variable, based on the product price and quantity"
      ]
    },
    {
      "cell_type": "code",
      "source": [
        "df['order_year'] = pd.to_datetime(df['order_year_month'].astype(str), format='%Y-%m', errors='coerce')\n",
        "df.dropna(subset=['order_year_month'], inplace=True)\n",
        "df['order_year'] = df['order_year'].dt.year\n",
        "df.dropna(subset=['order_year'], inplace=True)\n",
        "print(df)"
      ],
      "metadata": {
        "id": "jcZRVud-xezS",
        "outputId": "2731efb4-b4c7-4f87-d34d-61c94759a32b",
        "colab": {
          "base_uri": "https://localhost:8080/"
        }
      },
      "execution_count": 25,
      "outputs": [
        {
          "output_type": "stream",
          "name": "stdout",
          "text": [
            "       order_id  order_date order_year_month     customer_name  \\\n",
            "0         51188  2023-07-01          2023-07     Audrey Blanco   \n",
            "1         51187  2023-07-01          2023-07       Isaac Allen   \n",
            "2         51199  2023-07-02          2023-07        Ian Morgan   \n",
            "3         51241  2023-07-04          2023-07        Alexa Bell   \n",
            "4         51297  2023-07-08          2023-07        Casey Diaz   \n",
            "...         ...         ...              ...               ...   \n",
            "56038     74084  2024-06-29          2024-06        Ian Rogers   \n",
            "56039     74062  2024-06-29          2024-06   Marcus Anderson   \n",
            "56040     74065  2024-06-29          2024-06  Nathaniel Howard   \n",
            "56041     74038  2024-06-29          2024-06        Robin Sanz   \n",
            "56042     74110  2024-06-30          2024-06   Mallory Jimenez   \n",
            "\n",
            "                    city state_province                       email  \\\n",
            "0      North Cherylmouth  New Hampshire     audrey_blanco@email.com   \n",
            "1             Traceyland  West Virginia       isaac_allen@email.com   \n",
            "2              Dylanberg   South Dakota        ian_morgan@email.com   \n",
            "3         Lake Tracytown      Wisconsin        alexa_bell@email.com   \n",
            "4            Byrdchester    Mississippi        casey_diaz@email.com   \n",
            "...                  ...            ...                         ...   \n",
            "56038          Port Mark        Alabama        ian_rogers@email.com   \n",
            "56039     West Aprilfurt       Nebraska   marcus_anderson@email.com   \n",
            "56040      New Lindaview       Illinois  nathaniel_howard@email.com   \n",
            "56041    West Frankhaven       Arkansas        robin_sanz@email.com   \n",
            "56042        Dillonhaven       Maryland   mallory_jimenez@email.com   \n",
            "\n",
            "      order_type  quantity                                       product_name  \\\n",
            "0         Retail       3.0  Apple iPhone XR (Yellow, 256 GB) (Includes Ear...   \n",
            "1         Online       4.0  Apple iPhone XR (Yellow, 256 GB) (Includes Ear...   \n",
            "2         Online       5.0  Apple iPhone XR (Yellow, 256 GB) (Includes Ear...   \n",
            "3         Online       1.0  Apple iPhone XR (Yellow, 256 GB) (Includes Ear...   \n",
            "4         Online       1.0  Apple iPhone XR (Yellow, 256 GB) (Includes Ear...   \n",
            "...          ...       ...                                                ...   \n",
            "56038     Retail       1.0  Samsung Galaxy S20 FE 5G (Cloud Navy, 8GB RAM,...   \n",
            "56039     Retail       1.0  Samsung Galaxy S20 FE 5G (Cloud Navy, 8GB RAM,...   \n",
            "56040     Online       1.0  Samsung Galaxy S20 FE 5G (Cloud Navy, 8GB RAM,...   \n",
            "56041     Retail       1.0  Samsung Galaxy S20 FE 5G (Cloud Navy, 8GB RAM,...   \n",
            "56042     Retail       1.0  Samsung Galaxy S20 FE 5G (Cloud Navy, 8GB RAM,...   \n",
            "\n",
            "      product_line  product_price product_status  order_year  \n",
            "0           Mobile         649.99         Active      2023.0  \n",
            "1           Mobile         649.99         Active      2023.0  \n",
            "2           Mobile         649.99         Active      2023.0  \n",
            "3           Mobile         649.99         Active      2023.0  \n",
            "4           Mobile         649.99         Active      2023.0  \n",
            "...            ...            ...            ...         ...  \n",
            "56038  Electronics         914.62         Active      2024.0  \n",
            "56039  Electronics         914.62         Active      2024.0  \n",
            "56040  Electronics         914.62         Active      2024.0  \n",
            "56041  Electronics         914.62         Active      2024.0  \n",
            "56042  Electronics         914.62         Active      2024.0  \n",
            "\n",
            "[55956 rows x 14 columns]\n"
          ]
        }
      ]
    },
    {
      "cell_type": "code",
      "source": [
        "df_clean = df[(df['quantity'] < 100) & (df['product_price'] < 3000)]\n",
        "df_clean['order_year_month'] = pd.to_datetime(df['order_year_month'].astype(str), format='%Y-%m', errors='coerce')\n",
        "df_clean['order_year'] = df_clean['order_year_month'].dt.year\n",
        "df_clean = df_clean[(df_clean['order_year'] > 2000) & (df_clean['order_year'] < 2028)]\n",
        "df_clean.describe()"
      ],
      "metadata": {
        "id": "ykISDVpX8LpU",
        "outputId": "e4f502d1-14d8-419f-f2d6-045b57f1bb34",
        "colab": {
          "base_uri": "https://localhost:8080/",
          "height": 515
        }
      },
      "execution_count": 29,
      "outputs": [
        {
          "output_type": "stream",
          "name": "stderr",
          "text": [
            "<ipython-input-29-97d8cdf629c8>:2: SettingWithCopyWarning: \n",
            "A value is trying to be set on a copy of a slice from a DataFrame.\n",
            "Try using .loc[row_indexer,col_indexer] = value instead\n",
            "\n",
            "See the caveats in the documentation: https://pandas.pydata.org/pandas-docs/stable/user_guide/indexing.html#returning-a-view-versus-a-copy\n",
            "  df_clean['order_year_month'] = pd.to_datetime(df['order_year_month'].astype(str), format='%Y-%m', errors='coerce')\n",
            "<ipython-input-29-97d8cdf629c8>:3: SettingWithCopyWarning: \n",
            "A value is trying to be set on a copy of a slice from a DataFrame.\n",
            "Try using .loc[row_indexer,col_indexer] = value instead\n",
            "\n",
            "See the caveats in the documentation: https://pandas.pydata.org/pandas-docs/stable/user_guide/indexing.html#returning-a-view-versus-a-copy\n",
            "  df_clean['order_year'] = df_clean['order_year_month'].dt.year\n"
          ]
        },
        {
          "output_type": "execute_result",
          "data": {
            "text/plain": [
              "           order_id               order_year_month      quantity  \\\n",
              "count  53406.000000                          53406  53406.000000   \n",
              "mean   61908.348538  2023-12-13 02:42:30.455004672      1.499494   \n",
              "min    45080.000000            2022-01-01 00:00:00      1.000000   \n",
              "25%    55937.000000            2023-10-01 00:00:00      1.000000   \n",
              "50%    62035.500000            2024-01-01 00:00:00      1.000000   \n",
              "75%    68126.750000            2024-04-01 00:00:00      2.000000   \n",
              "max    74146.000000            2024-06-01 00:00:00      5.000000   \n",
              "std     7244.769612                            NaN      0.612076   \n",
              "\n",
              "       product_price    order_year  \n",
              "count   53406.000000  53406.000000  \n",
              "mean      560.357491   2023.503932  \n",
              "min         2.290000   2022.000000  \n",
              "25%         7.950000   2023.000000  \n",
              "50%       120.000000   2024.000000  \n",
              "75%       792.680000   2024.000000  \n",
              "max      2498.000000   2024.000000  \n",
              "std       717.143028      0.556661  "
            ],
            "text/html": [
              "\n",
              "  <div id=\"df-d0938a1f-b403-4ff0-9923-8f0a98232b66\" class=\"colab-df-container\">\n",
              "    <div>\n",
              "<style scoped>\n",
              "    .dataframe tbody tr th:only-of-type {\n",
              "        vertical-align: middle;\n",
              "    }\n",
              "\n",
              "    .dataframe tbody tr th {\n",
              "        vertical-align: top;\n",
              "    }\n",
              "\n",
              "    .dataframe thead th {\n",
              "        text-align: right;\n",
              "    }\n",
              "</style>\n",
              "<table border=\"1\" class=\"dataframe\">\n",
              "  <thead>\n",
              "    <tr style=\"text-align: right;\">\n",
              "      <th></th>\n",
              "      <th>order_id</th>\n",
              "      <th>order_year_month</th>\n",
              "      <th>quantity</th>\n",
              "      <th>product_price</th>\n",
              "      <th>order_year</th>\n",
              "    </tr>\n",
              "  </thead>\n",
              "  <tbody>\n",
              "    <tr>\n",
              "      <th>count</th>\n",
              "      <td>53406.000000</td>\n",
              "      <td>53406</td>\n",
              "      <td>53406.000000</td>\n",
              "      <td>53406.000000</td>\n",
              "      <td>53406.000000</td>\n",
              "    </tr>\n",
              "    <tr>\n",
              "      <th>mean</th>\n",
              "      <td>61908.348538</td>\n",
              "      <td>2023-12-13 02:42:30.455004672</td>\n",
              "      <td>1.499494</td>\n",
              "      <td>560.357491</td>\n",
              "      <td>2023.503932</td>\n",
              "    </tr>\n",
              "    <tr>\n",
              "      <th>min</th>\n",
              "      <td>45080.000000</td>\n",
              "      <td>2022-01-01 00:00:00</td>\n",
              "      <td>1.000000</td>\n",
              "      <td>2.290000</td>\n",
              "      <td>2022.000000</td>\n",
              "    </tr>\n",
              "    <tr>\n",
              "      <th>25%</th>\n",
              "      <td>55937.000000</td>\n",
              "      <td>2023-10-01 00:00:00</td>\n",
              "      <td>1.000000</td>\n",
              "      <td>7.950000</td>\n",
              "      <td>2023.000000</td>\n",
              "    </tr>\n",
              "    <tr>\n",
              "      <th>50%</th>\n",
              "      <td>62035.500000</td>\n",
              "      <td>2024-01-01 00:00:00</td>\n",
              "      <td>1.000000</td>\n",
              "      <td>120.000000</td>\n",
              "      <td>2024.000000</td>\n",
              "    </tr>\n",
              "    <tr>\n",
              "      <th>75%</th>\n",
              "      <td>68126.750000</td>\n",
              "      <td>2024-04-01 00:00:00</td>\n",
              "      <td>2.000000</td>\n",
              "      <td>792.680000</td>\n",
              "      <td>2024.000000</td>\n",
              "    </tr>\n",
              "    <tr>\n",
              "      <th>max</th>\n",
              "      <td>74146.000000</td>\n",
              "      <td>2024-06-01 00:00:00</td>\n",
              "      <td>5.000000</td>\n",
              "      <td>2498.000000</td>\n",
              "      <td>2024.000000</td>\n",
              "    </tr>\n",
              "    <tr>\n",
              "      <th>std</th>\n",
              "      <td>7244.769612</td>\n",
              "      <td>NaN</td>\n",
              "      <td>0.612076</td>\n",
              "      <td>717.143028</td>\n",
              "      <td>0.556661</td>\n",
              "    </tr>\n",
              "  </tbody>\n",
              "</table>\n",
              "</div>\n",
              "    <div class=\"colab-df-buttons\">\n",
              "\n",
              "  <div class=\"colab-df-container\">\n",
              "    <button class=\"colab-df-convert\" onclick=\"convertToInteractive('df-d0938a1f-b403-4ff0-9923-8f0a98232b66')\"\n",
              "            title=\"Convert this dataframe to an interactive table.\"\n",
              "            style=\"display:none;\">\n",
              "\n",
              "  <svg xmlns=\"http://www.w3.org/2000/svg\" height=\"24px\" viewBox=\"0 -960 960 960\">\n",
              "    <path d=\"M120-120v-720h720v720H120Zm60-500h600v-160H180v160Zm220 220h160v-160H400v160Zm0 220h160v-160H400v160ZM180-400h160v-160H180v160Zm440 0h160v-160H620v160ZM180-180h160v-160H180v160Zm440 0h160v-160H620v160Z\"/>\n",
              "  </svg>\n",
              "    </button>\n",
              "\n",
              "  <style>\n",
              "    .colab-df-container {\n",
              "      display:flex;\n",
              "      gap: 12px;\n",
              "    }\n",
              "\n",
              "    .colab-df-convert {\n",
              "      background-color: #E8F0FE;\n",
              "      border: none;\n",
              "      border-radius: 50%;\n",
              "      cursor: pointer;\n",
              "      display: none;\n",
              "      fill: #1967D2;\n",
              "      height: 32px;\n",
              "      padding: 0 0 0 0;\n",
              "      width: 32px;\n",
              "    }\n",
              "\n",
              "    .colab-df-convert:hover {\n",
              "      background-color: #E2EBFA;\n",
              "      box-shadow: 0px 1px 2px rgba(60, 64, 67, 0.3), 0px 1px 3px 1px rgba(60, 64, 67, 0.15);\n",
              "      fill: #174EA6;\n",
              "    }\n",
              "\n",
              "    .colab-df-buttons div {\n",
              "      margin-bottom: 4px;\n",
              "    }\n",
              "\n",
              "    [theme=dark] .colab-df-convert {\n",
              "      background-color: #3B4455;\n",
              "      fill: #D2E3FC;\n",
              "    }\n",
              "\n",
              "    [theme=dark] .colab-df-convert:hover {\n",
              "      background-color: #434B5C;\n",
              "      box-shadow: 0px 1px 3px 1px rgba(0, 0, 0, 0.15);\n",
              "      filter: drop-shadow(0px 1px 2px rgba(0, 0, 0, 0.3));\n",
              "      fill: #FFFFFF;\n",
              "    }\n",
              "  </style>\n",
              "\n",
              "    <script>\n",
              "      const buttonEl =\n",
              "        document.querySelector('#df-d0938a1f-b403-4ff0-9923-8f0a98232b66 button.colab-df-convert');\n",
              "      buttonEl.style.display =\n",
              "        google.colab.kernel.accessAllowed ? 'block' : 'none';\n",
              "\n",
              "      async function convertToInteractive(key) {\n",
              "        const element = document.querySelector('#df-d0938a1f-b403-4ff0-9923-8f0a98232b66');\n",
              "        const dataTable =\n",
              "          await google.colab.kernel.invokeFunction('convertToInteractive',\n",
              "                                                    [key], {});\n",
              "        if (!dataTable) return;\n",
              "\n",
              "        const docLinkHtml = 'Like what you see? Visit the ' +\n",
              "          '<a target=\"_blank\" href=https://colab.research.google.com/notebooks/data_table.ipynb>data table notebook</a>'\n",
              "          + ' to learn more about interactive tables.';\n",
              "        element.innerHTML = '';\n",
              "        dataTable['output_type'] = 'display_data';\n",
              "        await google.colab.output.renderOutput(dataTable, element);\n",
              "        const docLink = document.createElement('div');\n",
              "        docLink.innerHTML = docLinkHtml;\n",
              "        element.appendChild(docLink);\n",
              "      }\n",
              "    </script>\n",
              "  </div>\n",
              "\n",
              "\n",
              "<div id=\"df-5cdf8ad4-2735-4065-8c0b-844357bd2b60\">\n",
              "  <button class=\"colab-df-quickchart\" onclick=\"quickchart('df-5cdf8ad4-2735-4065-8c0b-844357bd2b60')\"\n",
              "            title=\"Suggest charts\"\n",
              "            style=\"display:none;\">\n",
              "\n",
              "<svg xmlns=\"http://www.w3.org/2000/svg\" height=\"24px\"viewBox=\"0 0 24 24\"\n",
              "     width=\"24px\">\n",
              "    <g>\n",
              "        <path d=\"M19 3H5c-1.1 0-2 .9-2 2v14c0 1.1.9 2 2 2h14c1.1 0 2-.9 2-2V5c0-1.1-.9-2-2-2zM9 17H7v-7h2v7zm4 0h-2V7h2v10zm4 0h-2v-4h2v4z\"/>\n",
              "    </g>\n",
              "</svg>\n",
              "  </button>\n",
              "\n",
              "<style>\n",
              "  .colab-df-quickchart {\n",
              "      --bg-color: #E8F0FE;\n",
              "      --fill-color: #1967D2;\n",
              "      --hover-bg-color: #E2EBFA;\n",
              "      --hover-fill-color: #174EA6;\n",
              "      --disabled-fill-color: #AAA;\n",
              "      --disabled-bg-color: #DDD;\n",
              "  }\n",
              "\n",
              "  [theme=dark] .colab-df-quickchart {\n",
              "      --bg-color: #3B4455;\n",
              "      --fill-color: #D2E3FC;\n",
              "      --hover-bg-color: #434B5C;\n",
              "      --hover-fill-color: #FFFFFF;\n",
              "      --disabled-bg-color: #3B4455;\n",
              "      --disabled-fill-color: #666;\n",
              "  }\n",
              "\n",
              "  .colab-df-quickchart {\n",
              "    background-color: var(--bg-color);\n",
              "    border: none;\n",
              "    border-radius: 50%;\n",
              "    cursor: pointer;\n",
              "    display: none;\n",
              "    fill: var(--fill-color);\n",
              "    height: 32px;\n",
              "    padding: 0;\n",
              "    width: 32px;\n",
              "  }\n",
              "\n",
              "  .colab-df-quickchart:hover {\n",
              "    background-color: var(--hover-bg-color);\n",
              "    box-shadow: 0 1px 2px rgba(60, 64, 67, 0.3), 0 1px 3px 1px rgba(60, 64, 67, 0.15);\n",
              "    fill: var(--button-hover-fill-color);\n",
              "  }\n",
              "\n",
              "  .colab-df-quickchart-complete:disabled,\n",
              "  .colab-df-quickchart-complete:disabled:hover {\n",
              "    background-color: var(--disabled-bg-color);\n",
              "    fill: var(--disabled-fill-color);\n",
              "    box-shadow: none;\n",
              "  }\n",
              "\n",
              "  .colab-df-spinner {\n",
              "    border: 2px solid var(--fill-color);\n",
              "    border-color: transparent;\n",
              "    border-bottom-color: var(--fill-color);\n",
              "    animation:\n",
              "      spin 1s steps(1) infinite;\n",
              "  }\n",
              "\n",
              "  @keyframes spin {\n",
              "    0% {\n",
              "      border-color: transparent;\n",
              "      border-bottom-color: var(--fill-color);\n",
              "      border-left-color: var(--fill-color);\n",
              "    }\n",
              "    20% {\n",
              "      border-color: transparent;\n",
              "      border-left-color: var(--fill-color);\n",
              "      border-top-color: var(--fill-color);\n",
              "    }\n",
              "    30% {\n",
              "      border-color: transparent;\n",
              "      border-left-color: var(--fill-color);\n",
              "      border-top-color: var(--fill-color);\n",
              "      border-right-color: var(--fill-color);\n",
              "    }\n",
              "    40% {\n",
              "      border-color: transparent;\n",
              "      border-right-color: var(--fill-color);\n",
              "      border-top-color: var(--fill-color);\n",
              "    }\n",
              "    60% {\n",
              "      border-color: transparent;\n",
              "      border-right-color: var(--fill-color);\n",
              "    }\n",
              "    80% {\n",
              "      border-color: transparent;\n",
              "      border-right-color: var(--fill-color);\n",
              "      border-bottom-color: var(--fill-color);\n",
              "    }\n",
              "    90% {\n",
              "      border-color: transparent;\n",
              "      border-bottom-color: var(--fill-color);\n",
              "    }\n",
              "  }\n",
              "</style>\n",
              "\n",
              "  <script>\n",
              "    async function quickchart(key) {\n",
              "      const quickchartButtonEl =\n",
              "        document.querySelector('#' + key + ' button');\n",
              "      quickchartButtonEl.disabled = true;  // To prevent multiple clicks.\n",
              "      quickchartButtonEl.classList.add('colab-df-spinner');\n",
              "      try {\n",
              "        const charts = await google.colab.kernel.invokeFunction(\n",
              "            'suggestCharts', [key], {});\n",
              "      } catch (error) {\n",
              "        console.error('Error during call to suggestCharts:', error);\n",
              "      }\n",
              "      quickchartButtonEl.classList.remove('colab-df-spinner');\n",
              "      quickchartButtonEl.classList.add('colab-df-quickchart-complete');\n",
              "    }\n",
              "    (() => {\n",
              "      let quickchartButtonEl =\n",
              "        document.querySelector('#df-5cdf8ad4-2735-4065-8c0b-844357bd2b60 button');\n",
              "      quickchartButtonEl.style.display =\n",
              "        google.colab.kernel.accessAllowed ? 'block' : 'none';\n",
              "    })();\n",
              "  </script>\n",
              "</div>\n",
              "\n",
              "    </div>\n",
              "  </div>\n"
            ],
            "application/vnd.google.colaboratory.intrinsic+json": {
              "type": "dataframe",
              "summary": "{\n  \"name\": \"df_clean\",\n  \"rows\": 8,\n  \"fields\": [\n    {\n      \"column\": \"order_id\",\n      \"properties\": {\n        \"dtype\": \"number\",\n        \"std\": 20702.460477738477,\n        \"min\": 7244.769612244857,\n        \"max\": 74146.0,\n        \"num_unique_values\": 8,\n        \"samples\": [\n          61908.348537617494,\n          68126.75,\n          53406.0\n        ],\n        \"semantic_type\": \"\",\n        \"description\": \"\"\n      }\n    },\n    {\n      \"column\": \"order_year_month\",\n      \"properties\": {\n        \"dtype\": \"date\",\n        \"min\": \"1970-01-01 00:00:00.000053406\",\n        \"max\": \"2024-06-01 00:00:00\",\n        \"num_unique_values\": 7,\n        \"samples\": [\n          \"53406\",\n          \"2023-12-13 02:42:30.455004672\",\n          \"2024-04-01 00:00:00\"\n        ],\n        \"semantic_type\": \"\",\n        \"description\": \"\"\n      }\n    },\n    {\n      \"column\": \"quantity\",\n      \"properties\": {\n        \"dtype\": \"number\",\n        \"std\": 18881.26070304705,\n        \"min\": 0.61207593536863,\n        \"max\": 53406.0,\n        \"num_unique_values\": 6,\n        \"samples\": [\n          53406.0,\n          1.499494438827098,\n          0.61207593536863\n        ],\n        \"semantic_type\": \"\",\n        \"description\": \"\"\n      }\n    },\n    {\n      \"column\": \"product_price\",\n      \"properties\": {\n        \"dtype\": \"number\",\n        \"std\": 18662.01828079467,\n        \"min\": 2.29,\n        \"max\": 53406.0,\n        \"num_unique_values\": 8,\n        \"samples\": [\n          560.3574911058682,\n          792.68,\n          53406.0\n        ],\n        \"semantic_type\": \"\",\n        \"description\": \"\"\n      }\n    },\n    {\n      \"column\": \"order_year\",\n      \"properties\": {\n        \"dtype\": \"number\",\n        \"std\": 18282.364654130943,\n        \"min\": 0.5566608057815566,\n        \"max\": 53406.0,\n        \"num_unique_values\": 6,\n        \"samples\": [\n          53406.0,\n          2023.5039321424558,\n          0.5566608057815566\n        ],\n        \"semantic_type\": \"\",\n        \"description\": \"\"\n      }\n    }\n  ]\n}"
            }
          },
          "metadata": {},
          "execution_count": 29
        }
      ]
    },
    {
      "cell_type": "code",
      "source": [
        "df.dtypes"
      ],
      "metadata": {
        "id": "zSpq0oua2Gmg",
        "outputId": "05be8968-b7be-44d5-9f5e-bb19a5f13849",
        "colab": {
          "base_uri": "https://localhost:8080/",
          "height": 523
        }
      },
      "execution_count": 28,
      "outputs": [
        {
          "output_type": "execute_result",
          "data": {
            "text/plain": [
              "order_id              int64\n",
              "order_date           object\n",
              "order_year_month     object\n",
              "customer_name        object\n",
              "city                 object\n",
              "state_province       object\n",
              "email                object\n",
              "order_type           object\n",
              "quantity            float64\n",
              "product_name         object\n",
              "product_line         object\n",
              "product_price       float64\n",
              "product_status       object\n",
              "order_year          float64\n",
              "dtype: object"
            ],
            "text/html": [
              "<div>\n",
              "<style scoped>\n",
              "    .dataframe tbody tr th:only-of-type {\n",
              "        vertical-align: middle;\n",
              "    }\n",
              "\n",
              "    .dataframe tbody tr th {\n",
              "        vertical-align: top;\n",
              "    }\n",
              "\n",
              "    .dataframe thead th {\n",
              "        text-align: right;\n",
              "    }\n",
              "</style>\n",
              "<table border=\"1\" class=\"dataframe\">\n",
              "  <thead>\n",
              "    <tr style=\"text-align: right;\">\n",
              "      <th></th>\n",
              "      <th>0</th>\n",
              "    </tr>\n",
              "  </thead>\n",
              "  <tbody>\n",
              "    <tr>\n",
              "      <th>order_id</th>\n",
              "      <td>int64</td>\n",
              "    </tr>\n",
              "    <tr>\n",
              "      <th>order_date</th>\n",
              "      <td>object</td>\n",
              "    </tr>\n",
              "    <tr>\n",
              "      <th>order_year_month</th>\n",
              "      <td>object</td>\n",
              "    </tr>\n",
              "    <tr>\n",
              "      <th>customer_name</th>\n",
              "      <td>object</td>\n",
              "    </tr>\n",
              "    <tr>\n",
              "      <th>city</th>\n",
              "      <td>object</td>\n",
              "    </tr>\n",
              "    <tr>\n",
              "      <th>state_province</th>\n",
              "      <td>object</td>\n",
              "    </tr>\n",
              "    <tr>\n",
              "      <th>email</th>\n",
              "      <td>object</td>\n",
              "    </tr>\n",
              "    <tr>\n",
              "      <th>order_type</th>\n",
              "      <td>object</td>\n",
              "    </tr>\n",
              "    <tr>\n",
              "      <th>quantity</th>\n",
              "      <td>float64</td>\n",
              "    </tr>\n",
              "    <tr>\n",
              "      <th>product_name</th>\n",
              "      <td>object</td>\n",
              "    </tr>\n",
              "    <tr>\n",
              "      <th>product_line</th>\n",
              "      <td>object</td>\n",
              "    </tr>\n",
              "    <tr>\n",
              "      <th>product_price</th>\n",
              "      <td>float64</td>\n",
              "    </tr>\n",
              "    <tr>\n",
              "      <th>product_status</th>\n",
              "      <td>object</td>\n",
              "    </tr>\n",
              "    <tr>\n",
              "      <th>order_year</th>\n",
              "      <td>float64</td>\n",
              "    </tr>\n",
              "  </tbody>\n",
              "</table>\n",
              "</div><br><label><b>dtype:</b> object</label>"
            ]
          },
          "metadata": {},
          "execution_count": 28
        }
      ]
    },
    {
      "cell_type": "code",
      "source": [
        "categorical_cols = ['order_type', 'customer_name', 'city', 'state_province', 'email', 'product_name', 'product_line', 'product_status']\n",
        "for col in categorical_cols:\n",
        "    if col in df.columns:  # Check if the column exists in the DataFrame\n",
        "        df[col] = df[col].astype('category')\n"
      ],
      "metadata": {
        "id": "RIodpyokxerB"
      },
      "execution_count": 15,
      "outputs": []
    },
    {
      "cell_type": "code",
      "source": [
        "seventy_fifth_percentile = df['product_price'].quantile(0.75)\n",
        "twenty_fifth_percentile = df['product_price'].quantile(0.25)\n",
        "iqr = seventy_fifth_percentile - twenty_fifth_percentile\n",
        "lower_bound = twenty_fifth_percentile - 1.5 * iqr\n",
        "upper_bound = seventy_fifth_percentile + 1.5 * iqr"
      ],
      "metadata": {
        "id": "NWcKU58mxeh4"
      },
      "execution_count": 17,
      "outputs": []
    },
    {
      "cell_type": "code",
      "source": [
        "df = df.dropna(axis=1)"
      ],
      "metadata": {
        "id": "Xo_NwZRpxeXa"
      },
      "execution_count": 18,
      "outputs": []
    },
    {
      "cell_type": "code",
      "execution_count": 30,
      "metadata": {
        "vscode": {
          "languageId": "plaintext"
        },
        "id": "5v0dLH10xIQP",
        "outputId": "72dff24f-3565-4a7b-88cf-3d1509c45d69",
        "colab": {
          "base_uri": "https://localhost:8080/"
        }
      },
      "outputs": [
        {
          "output_type": "stream",
          "name": "stdout",
          "text": [
            "       order_id  order_date order_year_month     customer_name  \\\n",
            "0         51188  2023-07-01          2023-07     Audrey Blanco   \n",
            "1         51187  2023-07-01          2023-07       Isaac Allen   \n",
            "2         51199  2023-07-02          2023-07        Ian Morgan   \n",
            "3         51241  2023-07-04          2023-07        Alexa Bell   \n",
            "4         51297  2023-07-08          2023-07        Casey Diaz   \n",
            "...         ...         ...              ...               ...   \n",
            "56038     74084  2024-06-29          2024-06        Ian Rogers   \n",
            "56039     74062  2024-06-29          2024-06   Marcus Anderson   \n",
            "56040     74065  2024-06-29          2024-06  Nathaniel Howard   \n",
            "56041     74038  2024-06-29          2024-06        Robin Sanz   \n",
            "56042     74110  2024-06-30          2024-06   Mallory Jimenez   \n",
            "\n",
            "                    city state_province                       email  \\\n",
            "0      North Cherylmouth  New Hampshire     audrey_blanco@email.com   \n",
            "1             Traceyland  West Virginia       isaac_allen@email.com   \n",
            "2              Dylanberg   South Dakota        ian_morgan@email.com   \n",
            "3         Lake Tracytown      Wisconsin        alexa_bell@email.com   \n",
            "4            Byrdchester    Mississippi        casey_diaz@email.com   \n",
            "...                  ...            ...                         ...   \n",
            "56038          Port Mark        Alabama        ian_rogers@email.com   \n",
            "56039     West Aprilfurt       Nebraska   marcus_anderson@email.com   \n",
            "56040      New Lindaview       Illinois  nathaniel_howard@email.com   \n",
            "56041    West Frankhaven       Arkansas        robin_sanz@email.com   \n",
            "56042        Dillonhaven       Maryland   mallory_jimenez@email.com   \n",
            "\n",
            "      order_type  quantity                                       product_name  \\\n",
            "0         Retail       3.0  Apple iPhone XR (Yellow, 256 GB) (Includes Ear...   \n",
            "1         Online       4.0  Apple iPhone XR (Yellow, 256 GB) (Includes Ear...   \n",
            "2         Online       5.0  Apple iPhone XR (Yellow, 256 GB) (Includes Ear...   \n",
            "3         Online       1.0  Apple iPhone XR (Yellow, 256 GB) (Includes Ear...   \n",
            "4         Online       1.0  Apple iPhone XR (Yellow, 256 GB) (Includes Ear...   \n",
            "...          ...       ...                                                ...   \n",
            "56038     Retail       1.0  Samsung Galaxy S20 FE 5G (Cloud Navy, 8GB RAM,...   \n",
            "56039     Retail       1.0  Samsung Galaxy S20 FE 5G (Cloud Navy, 8GB RAM,...   \n",
            "56040     Online       1.0  Samsung Galaxy S20 FE 5G (Cloud Navy, 8GB RAM,...   \n",
            "56041     Retail       1.0  Samsung Galaxy S20 FE 5G (Cloud Navy, 8GB RAM,...   \n",
            "56042     Retail       1.0  Samsung Galaxy S20 FE 5G (Cloud Navy, 8GB RAM,...   \n",
            "\n",
            "      product_line  product_price product_status  order_year  total_amount  \n",
            "0           Mobile         649.99         Active      2023.0       1949.97  \n",
            "1           Mobile         649.99         Active      2023.0       2599.96  \n",
            "2           Mobile         649.99         Active      2023.0       3249.95  \n",
            "3           Mobile         649.99         Active      2023.0        649.99  \n",
            "4           Mobile         649.99         Active      2023.0        649.99  \n",
            "...            ...            ...            ...         ...           ...  \n",
            "56038  Electronics         914.62         Active      2024.0        914.62  \n",
            "56039  Electronics         914.62         Active      2024.0        914.62  \n",
            "56040  Electronics         914.62         Active      2024.0        914.62  \n",
            "56041  Electronics         914.62         Active      2024.0        914.62  \n",
            "56042  Electronics         914.62         Active      2024.0        914.62  \n",
            "\n",
            "[55443 rows x 15 columns]\n"
          ]
        }
      ],
      "source": [
        "df['total_amount'] = df['product_price'] * df['quantity']\n",
        "df.dropna(inplace=True)\n",
        "print(df)"
      ]
    },
    {
      "cell_type": "markdown",
      "metadata": {
        "id": "WOKiyR1IxIQP"
      },
      "source": [
        "## Create Basic Charts\n",
        "\n",
        "➡️ Assignment Tasks\n",
        "Your target variable is Total Sales Revenue\n",
        "\n",
        "Create at least three charts showing revenue broken out by another variable.  \n",
        "\n",
        "Each visualization should bring some insight into the total sales. You can use any variables for these sample plots."
      ]
    },
    {
      "cell_type": "code",
      "execution_count": 44,
      "metadata": {
        "vscode": {
          "languageId": "plaintext"
        },
        "id": "hXgYDJ9dxIQQ",
        "outputId": "d1160f83-561e-413c-86b8-c2b87561b5c1",
        "colab": {
          "base_uri": "https://localhost:8080/",
          "height": 631
        }
      },
      "outputs": [
        {
          "output_type": "display_data",
          "data": {
            "text/plain": [
              "<Figure size 1000x600 with 1 Axes>"
            ],
            "image/png": "[encoded data removed]"
          },
          "metadata": {}
        }
      ],
      "source": [
        "plt.figure(figsize=(10, 6))\n",
        "sns.scatterplot(x='product_line', y='total_amount', data=df)\n",
        "plt.title('Boxplot of Total Amount by Product Line')\n",
        "plt.xlabel('Product Line')\n",
        "plt.ylabel('Total Amount')\n",
        "plt.xticks(rotation=45, ha='right') # Rotate x-axis labels for better readability\n",
        " # Adjust layout to prevent labels from overlapping\n",
        "plt.show()\n"
      ]
    },
    {
      "cell_type": "code",
      "execution_count": null,
      "metadata": {
        "vscode": {
          "languageId": "plaintext"
        },
        "id": "-w7XdUPNxIQQ"
      },
      "outputs": [],
      "source": [
        "#chart 2"
      ]
    },
    {
      "cell_type": "code",
      "execution_count": null,
      "metadata": {
        "vscode": {
          "languageId": "plaintext"
        },
        "id": "RxSKuZ2ixIQQ"
      },
      "outputs": [],
      "source": [
        "#chart 3"
      ]
    },
    {
      "cell_type": "markdown",
      "metadata": {
        "id": "695HRbD4xIQQ"
      },
      "source": [
        "## Covariance\n",
        "\n",
        "➡️ Assignment Task\n",
        "- Create a covariance matrix using all of the applicable independent variables\n",
        "- In 100 words or less, describe what insight you can derive from the covariance matrix.  What does it tell us about the data?  \n"
      ]
    },
    {
      "cell_type": "code",
      "execution_count": null,
      "metadata": {
        "vscode": {
          "languageId": "plaintext"
        },
        "id": "VnMU_KwWxIQR"
      },
      "outputs": [],
      "source": [
        "#matrix"
      ]
    }
  ],
  "metadata": {
    "language_info": {
      "name": "python"
    },
    "colab": {
      "provenance": [],
      "include_colab_link": true
    },
    "kernelspec": {
      "name": "python3",
      "display_name": "Python 3"
    }
  },
  "nbformat": 4,
  "nbformat_minor": 0
}